{
 "cells": [
  {
   "cell_type": "code",
   "execution_count": 1,
   "id": "41dcefc7",
   "metadata": {},
   "outputs": [],
   "source": [
    "# Import required modules\n",
    "import cv2 as cv\n",
    "import math\n",
    "import time\n",
    "import os\n",
    "import glob\n",
    "\n",
    "MODEL_MEAN_VALUES = (78.4263377603, 87.7689143744, 114.895847746)\n",
    "ageList = ['(0-2)', '(4-6)', '(8-12)', '(15-20)', '(25-32)', '(38-43)', '(48-53)', '(60-100)']\n",
    "genderList = ['Male', 'Female']\n",
    "\n",
    "faceProto = \"modelNweight/opencv_face_detector.pbtxt\"\n",
    "faceModel = \"modelNweight/opencv_face_detector_uint8.pb\"\n",
    "\n",
    "ageProto = \"modelNweight/age_deploy.prototxt\"\n",
    "ageModel = \"modelNweight/age_net.caffemodel\"\n",
    "\n",
    "\n",
    "# Load network\n",
    "ageNet = cv.dnn.readNet(ageModel, ageProto)\n",
    "faceNet = cv.dnn.readNet(faceModel, faceProto)\n",
    "\n",
    "padding = 20\n",
    "\n",
    "\n",
    "def getFaceBox(net, frame, conf_threshold=0.7):\n",
    "    frameOpencvDnn = frame.copy()\n",
    "    frameHeight = frameOpencvDnn.shape[0]\n",
    "    frameWidth = frameOpencvDnn.shape[1]\n",
    "    blob = cv.dnn.blobFromImage(frameOpencvDnn, 1.0, (300, 300), [104, 117, 123], True, False)\n",
    "\n",
    "    net.setInput(blob)\n",
    "    detections = net.forward()\n",
    "    bboxes = []\n",
    "    for i in range(detections.shape[2]):\n",
    "        confidence = detections[0, 0, i, 2]\n",
    "        if confidence > conf_threshold:\n",
    "            x1 = int(detections[0, 0, i, 3] * frameWidth)\n",
    "            y1 = int(detections[0, 0, i, 4] * frameHeight)\n",
    "            x2 = int(detections[0, 0, i, 5] * frameWidth)\n",
    "            y2 = int(detections[0, 0, i, 6] * frameHeight)\n",
    "            bboxes.append([x1, y1, x2, y2])\n",
    "            \n",
    "    return bboxes\n",
    "\n",
    "\n",
    "\n",
    "\n",
    "def age_gender_detector(frame):\n",
    "    # Read frame\n",
    "    t = time.time()\n",
    "    bboxes = getFaceBox(faceNet, frame)\n",
    "    for bbox in bboxes:\n",
    "        # print(bbox)\n",
    "        face = frame[max(0,bbox[1]-padding):min(bbox[3]+padding,frame.shape[0]-1),max(0,bbox[0]-padding):min(bbox[2]+padding, frame.shape[1]-1)]\n",
    "\n",
    "        blob = cv.dnn.blobFromImage(face, 1.0, (227, 227), MODEL_MEAN_VALUES, swapRB=False)\n",
    "        ageNet.setInput(blob)\n",
    "        agePreds = ageNet.forward()\n",
    "        age = ageList[agePreds[0].argmax()]\n",
    "        label = \"{} Year Range\".format(age)\n",
    "    \n",
    "        return age"
   ]
  },
  {
   "cell_type": "code",
   "execution_count": 2,
   "id": "44939c9e",
   "metadata": {},
   "outputs": [],
   "source": [
    "path  = glob.glob('image_data/*.jpg')\n",
    "x=[]\n",
    "for file in path:\n",
    "    input = cv.imread(file)\n",
    "    age = age_gender_detector(input)\n",
    "    x.append(age)\n"
   ]
  },
  {
   "cell_type": "code",
   "execution_count": 3,
   "id": "68c20355",
   "metadata": {},
   "outputs": [],
   "source": [
    "#     cv.imshow('image',output)\n",
    "#     cv.waitKey(0) \n",
    "#     cv.destroyAllWindows() "
   ]
  },
  {
   "cell_type": "code",
   "execution_count": 4,
   "id": "06c96775",
   "metadata": {},
   "outputs": [
    {
     "data": {
      "text/plain": [
       "'image_data\\\\gun.jpg'"
      ]
     },
     "execution_count": 4,
     "metadata": {},
     "output_type": "execute_result"
    }
   ],
   "source": [
    "file"
   ]
  },
  {
   "cell_type": "code",
   "execution_count": 5,
   "id": "6e898b55",
   "metadata": {},
   "outputs": [
    {
     "data": {
      "text/plain": [
       "'image_data\\\\gun.jpg'"
      ]
     },
     "execution_count": 5,
     "metadata": {},
     "output_type": "execute_result"
    }
   ],
   "source": [
    "path[-1]"
   ]
  },
  {
   "cell_type": "code",
   "execution_count": 6,
   "id": "bc8626ab",
   "metadata": {},
   "outputs": [
    {
     "data": {
      "text/plain": [
       "4"
      ]
     },
     "execution_count": 6,
     "metadata": {},
     "output_type": "execute_result"
    }
   ],
   "source": [
    "len(x)"
   ]
  },
  {
   "cell_type": "code",
   "execution_count": 7,
   "id": "207fd56d",
   "metadata": {},
   "outputs": [
    {
     "data": {
      "text/plain": [
       "4"
      ]
     },
     "execution_count": 7,
     "metadata": {},
     "output_type": "execute_result"
    }
   ],
   "source": [
    "len(path)"
   ]
  },
  {
   "cell_type": "code",
   "execution_count": 8,
   "id": "97c92d53",
   "metadata": {},
   "outputs": [],
   "source": [
    "cnt=0\n",
    "for i in x:\n",
    "    if i:\n",
    "        cnt+=1"
   ]
  },
  {
   "cell_type": "code",
   "execution_count": 9,
   "id": "22daf6a6",
   "metadata": {},
   "outputs": [
    {
     "data": {
      "text/plain": [
       "2"
      ]
     },
     "execution_count": 9,
     "metadata": {},
     "output_type": "execute_result"
    }
   ],
   "source": [
    "cnt #  11/50(Images), 91/266(img) 2/4(image_data) were detected  "
   ]
  }
 ],
 "metadata": {
  "kernelspec": {
   "display_name": "Python 3 (ipykernel)",
   "language": "python",
   "name": "python3"
  },
  "language_info": {
   "codemirror_mode": {
    "name": "ipython",
    "version": 3
   },
   "file_extension": ".py",
   "mimetype": "text/x-python",
   "name": "python",
   "nbconvert_exporter": "python",
   "pygments_lexer": "ipython3",
   "version": "3.9.7"
  }
 },
 "nbformat": 4,
 "nbformat_minor": 5
}
